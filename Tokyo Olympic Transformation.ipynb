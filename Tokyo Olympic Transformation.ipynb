{
 "cells": [
  {
   "cell_type": "code",
   "execution_count": 0,
   "metadata": {
    "application/vnd.databricks.v1+cell": {
     "cellMetadata": {
      "byteLimit": 2048000,
      "rowLimit": 10000
     },
     "inputWidgets": {},
     "nuid": "4121df28-e189-4fb1-87f1-24878b8accf9",
     "showTitle": false,
     "tableResultSettingsMap": {},
     "title": ""
    }
   },
   "outputs": [],
   "source": [
    "from pyspark.sql.functions import col\n",
    "from pyspark.sql.types import IntegerType, DoubleType, BooleanType, DateType"
   ]
  },
  {
   "cell_type": "code",
   "execution_count": 0,
   "metadata": {
    "application/vnd.databricks.v1+cell": {
     "cellMetadata": {
      "byteLimit": 2048000,
      "rowLimit": 10000
     },
     "inputWidgets": {},
     "nuid": "765fc7ac-bca5-4bb8-8ef6-601a9d6554b2",
     "showTitle": false,
     "tableResultSettingsMap": {},
     "title": ""
    }
   },
   "outputs": [
    {
     "output_type": "execute_result",
     "data": {
      "text/plain": [
       "True"
      ]
     },
     "execution_count": 1,
     "metadata": {},
     "output_type": "execute_result"
    }
   ],
   "source": [
    "configs = {\"fs.azure.account.auth.type\": \"OAuth\",\n",
    "\"fs.azure.account.oauth.provider.type\": \"org.apache.hadoop.fs.azurebfs.oauth2.ClientCredsTokenProvider\",\n",
    "\"fs.azure.account.oauth2.client.id\": \"clientid\",\n",
    "\"fs.azure.account.oauth2.client.secret\": 'scretkey',\n",
    "\"fs.azure.account.oauth2.client.endpoint\": \"https://login.microsoftonline.com/directoryid/oauth2/token\"}\n",
    "\n",
    "\n",
    "\n",
    "dbutils.fs.mount(\n",
    "source = \"abfss://tokyo-olympic-data@tokyoolympicdatavish.dfs.core.windows.net\", # contrainer@storageacc\n",
    "mount_point = \"/mnt/tokyoolympic\",\n",
    "extra_configs = configs)\n",
    "  "
   ]
  },
  {
   "cell_type": "code",
   "execution_count": 0,
   "metadata": {
    "application/vnd.databricks.v1+cell": {
     "cellMetadata": {
      "byteLimit": 2048000,
      "rowLimit": 10000
     },
     "inputWidgets": {},
     "nuid": "c5d249fd-4295-49fd-a87d-19b2bb770a27",
     "showTitle": false,
     "tableResultSettingsMap": {},
     "title": ""
    }
   },
   "outputs": [
    {
     "output_type": "display_data",
     "data": {
      "text/html": [
       "<style scoped>\n",
       "  .table-result-container {\n",
       "    max-height: 300px;\n",
       "    overflow: auto;\n",
       "  }\n",
       "  table, th, td {\n",
       "    border: 1px solid black;\n",
       "    border-collapse: collapse;\n",
       "  }\n",
       "  th, td {\n",
       "    padding: 5px;\n",
       "  }\n",
       "  th {\n",
       "    text-align: left;\n",
       "  }\n",
       "</style><div class='table-result-container'><table class='table-result'><thead style='background-color: white'><tr><th>path</th><th>name</th><th>size</th><th>modificationTime</th></tr></thead><tbody><tr><td>dbfs:/mnt/tokyoolympic/raw-data/</td><td>raw-data/</td><td>0</td><td>1741357059000</td></tr><tr><td>dbfs:/mnt/tokyoolympic/transformed-data/</td><td>transformed-data/</td><td>0</td><td>1741357072000</td></tr></tbody></table></div>"
      ]
     },
     "metadata": {
      "application/vnd.databricks.v1+output": {
       "addedWidgets": {},
       "aggData": [],
       "aggError": "",
       "aggOverflow": false,
       "aggSchema": [],
       "aggSeriesLimitReached": false,
       "aggType": "",
       "arguments": {},
       "columnCustomDisplayInfos": {},
       "data": [
        [
         "dbfs:/mnt/tokyoolympic/raw-data/",
         "raw-data/",
         0,
         1741357059000
        ],
        [
         "dbfs:/mnt/tokyoolympic/transformed-data/",
         "transformed-data/",
         0,
         1741357072000
        ]
       ],
       "datasetInfos": [],
       "dbfsResultPath": null,
       "isJsonSchema": true,
       "metadata": {
        "isDbfsCommandResult": false
       },
       "overflow": false,
       "plotOptions": {
        "customPlotOptions": {},
        "displayType": "table",
        "pivotAggregation": null,
        "pivotColumns": null,
        "xColumns": null,
        "yColumns": null
       },
       "removedWidgets": [],
       "schema": [
        {
         "metadata": "{}",
         "name": "path",
         "type": "\"string\""
        },
        {
         "metadata": "{}",
         "name": "name",
         "type": "\"string\""
        },
        {
         "metadata": "{}",
         "name": "size",
         "type": "\"long\""
        },
        {
         "metadata": "{}",
         "name": "modificationTime",
         "type": "\"long\""
        }
       ],
       "type": "table"
      }
     },
     "output_type": "display_data"
    }
   ],
   "source": [
    "%fs\n",
    "ls \"/mnt/tokyoolympic\""
   ]
  },
  {
   "cell_type": "code",
   "execution_count": 0,
   "metadata": {
    "application/vnd.databricks.v1+cell": {
     "cellMetadata": {
      "byteLimit": 2048000,
      "rowLimit": 10000
     },
     "inputWidgets": {},
     "nuid": "34a6ba36-8b5f-4bdc-ba38-8be062efa283",
     "showTitle": false,
     "tableResultSettingsMap": {},
     "title": ""
    }
   },
   "outputs": [
    {
     "output_type": "execute_result",
     "data": {
      "text/html": [
       "\n",
       "            <div>\n",
       "                <p><b>SparkSession - hive</b></p>\n",
       "                \n",
       "        <div>\n",
       "            <p><b>SparkContext</b></p>\n",
       "\n",
       "            <p><a href=\"/?o=1901946545376551#setting/sparkui/0309-102821-waevaf7f/driver-4698121316194727897\">Spark UI</a></p>\n",
       "\n",
       "            <dl>\n",
       "              <dt>Version</dt>\n",
       "                <dd><code>v3.5.0</code></dd>\n",
       "              <dt>Master</dt>\n",
       "                <dd><code>local[*, 4]</code></dd>\n",
       "              <dt>AppName</dt>\n",
       "                <dd><code>Databricks Shell</code></dd>\n",
       "            </dl>\n",
       "        </div>\n",
       "        \n",
       "            </div>\n",
       "        "
      ],
      "text/plain": [
       "<pyspark.sql.session.SparkSession at 0x7fe982c48710>"
      ]
     },
     "execution_count": 2,
     "metadata": {},
     "output_type": "execute_result"
    }
   ],
   "source": [
    "spark #we already have spark object "
   ]
  },
  {
   "cell_type": "code",
   "execution_count": 0,
   "metadata": {
    "application/vnd.databricks.v1+cell": {
     "cellMetadata": {
      "byteLimit": 2048000,
      "rowLimit": 10000
     },
     "inputWidgets": {},
     "nuid": "d8978d7b-0114-48e4-b228-8e5a88d6c871",
     "showTitle": false,
     "tableResultSettingsMap": {},
     "title": ""
    }
   },
   "outputs": [],
   "source": [
    "athletes = spark.read.format(\"csv\").option(\"header\", \"true\").option(\"inferSchema\", \"true\").load(\"/mnt/tokyoolympic/raw-data/athletes.csv\")\n",
    "coaches = spark.read.format(\"csv\").option(\"header\", \"true\").option(\"inferSchema\", \"true\").load(\"/mnt/tokyoolympic/raw-data/coaches.csv\")\n",
    "entriesgender = spark.read.format(\"csv\").option(\"header\", \"true\").option(\"inferSchema\", \"true\").load(\"/mnt/tokyoolympic/raw-data/entriesgender.csv\")\n",
    "medals = spark.read.format(\"csv\").option(\"header\", \"true\").option(\"inferSchema\", \"true\").load(\"/mnt/tokyoolympic/raw-data/medals.csv\")\n",
    "teams = spark.read.format(\"csv\").option(\"header\", \"true\").option(\"inferSchema\", \"true\").load(\"/mnt/tokyoolympic/raw-data/teams.csv\")\n"
   ]
  },
  {
   "cell_type": "code",
   "execution_count": 0,
   "metadata": {
    "application/vnd.databricks.v1+cell": {
     "cellMetadata": {
      "byteLimit": 2048000,
      "rowLimit": 10000
     },
     "inputWidgets": {},
     "nuid": "f0676d3c-3ddc-4e8f-a8a9-09a34db10ce7",
     "showTitle": false,
     "tableResultSettingsMap": {},
     "title": ""
    }
   },
   "outputs": [
    {
     "output_type": "stream",
     "name": "stdout",
     "output_type": "stream",
     "text": [
      "+--------------------+--------------------+-------------------+\n|          PersonName|             Country|         Discipline|\n+--------------------+--------------------+-------------------+\n|     AALERUD Katrine|              Norway|       Cycling Road|\n|         ABAD Nestor|               Spain|Artistic Gymnastics|\n|   ABAGNALE Giovanni|               Italy|             Rowing|\n|      ABALDE Alberto|               Spain|         Basketball|\n|       ABALDE Tamara|               Spain|         Basketball|\n|           ABALO Luc|              France|           Handball|\n|        ABAROA Cesar|               Chile|             Rowing|\n|       ABASS Abobakr|               Sudan|           Swimming|\n|    ABBASALI Hamideh|Islamic Republic ...|             Karate|\n|       ABBASOV Islam|          Azerbaijan|          Wrestling|\n|        ABBINGH Lois|         Netherlands|           Handball|\n|         ABBOT Emily|           Australia|Rhythmic Gymnastics|\n|       ABBOTT Monica|United States of ...|  Baseball/Softball|\n|ABDALLA Abubaker ...|               Qatar|          Athletics|\n|      ABDALLA Maryam|               Egypt|  Artistic Swimming|\n|      ABDALLAH Shahd|               Egypt|  Artistic Swimming|\n| ABDALRASOOL Mohamed|               Sudan|               Judo|\n|   ABDEL LATIF Radwa|               Egypt|           Shooting|\n|    ABDEL RAZEK Samy|               Egypt|           Shooting|\n|   ABDELAZIZ Abdalla|               Egypt|             Karate|\n+--------------------+--------------------+-------------------+\nonly showing top 20 rows\n\n"
     ]
    }
   ],
   "source": [
    "athletes.show()"
   ]
  },
  {
   "cell_type": "code",
   "execution_count": 0,
   "metadata": {
    "application/vnd.databricks.v1+cell": {
     "cellMetadata": {
      "byteLimit": 2048000,
      "rowLimit": 10000
     },
     "inputWidgets": {},
     "nuid": "826d8151-94f7-404e-8f0a-99504760c35a",
     "showTitle": false,
     "tableResultSettingsMap": {},
     "title": ""
    }
   },
   "outputs": [
    {
     "output_type": "stream",
     "name": "stdout",
     "output_type": "stream",
     "text": [
      "root\n |-- PersonName: string (nullable = true)\n |-- Country: string (nullable = true)\n |-- Discipline: string (nullable = true)\n\n"
     ]
    }
   ],
   "source": [
    "athletes.printSchema()"
   ]
  },
  {
   "cell_type": "code",
   "execution_count": 0,
   "metadata": {
    "application/vnd.databricks.v1+cell": {
     "cellMetadata": {
      "byteLimit": 2048000,
      "rowLimit": 10000
     },
     "inputWidgets": {},
     "nuid": "d8739a72-fb26-40bd-a85e-4930196b3624",
     "showTitle": false,
     "tableResultSettingsMap": {},
     "title": ""
    }
   },
   "outputs": [
    {
     "output_type": "stream",
     "name": "stdout",
     "output_type": "stream",
     "text": [
      "+--------------------+--------------------+-----------------+--------+\n|                Name|             Country|       Discipline|   Event|\n+--------------------+--------------------+-----------------+--------+\n|     ABDELMAGID Wael|               Egypt|         Football|    NULL|\n|           ABE Junya|               Japan|       Volleyball|    NULL|\n|       ABE Katsuhiko|               Japan|       Basketball|    NULL|\n|        ADAMA Cherif|       C�te d'Ivoire|         Football|    NULL|\n|          AGEBA Yuya|               Japan|       Volleyball|    NULL|\n|AIKMAN Siegfried ...|               Japan|           Hockey|     Men|\n|       AL SAADI Kais|             Germany|           Hockey|     Men|\n|       ALAMEDA Lonni|              Canada|Baseball/Softball|Softball|\n|     ALEKNO Vladimir|Islamic Republic ...|       Volleyball|     Men|\n|     ALEKSEEV Alexey|                 ROC|         Handball|   Women|\n|ALLER CARBALLO Ma...|               Spain|       Basketball|    NULL|\n|       ALSHEHRI Saad|        Saudi Arabia|         Football|     Men|\n|           ALY Kamal|               Egypt|         Football|    NULL|\n| AMAYA GAITAN Fabian|         Puerto Rico|       Basketball|    NULL|\n|    AMO AGUADO Pablo|               Spain|         Football|    NULL|\n|   ANDONOVSKI Vlatko|United States of ...|         Football|   Women|\n|        ANNAN Alyson|         Netherlands|           Hockey|   Women|\n|  ARNAU CREUS Xavier|               Japan|           Hockey|   Women|\n|       ARNOLD Graham|           Australia|         Football|     Men|\n|         AXNER Tomas|              Sweden|         Handball|   Women|\n+--------------------+--------------------+-----------------+--------+\nonly showing top 20 rows\n\n"
     ]
    }
   ],
   "source": [
    "coaches.show()"
   ]
  },
  {
   "cell_type": "code",
   "execution_count": 0,
   "metadata": {
    "application/vnd.databricks.v1+cell": {
     "cellMetadata": {
      "byteLimit": 2048000,
      "rowLimit": 10000
     },
     "inputWidgets": {},
     "nuid": "8fde0f0b-70bc-482f-a48b-6fe9d326a946",
     "showTitle": false,
     "tableResultSettingsMap": {},
     "title": ""
    }
   },
   "outputs": [
    {
     "output_type": "stream",
     "name": "stdout",
     "output_type": "stream",
     "text": [
      "root\n |-- Name: string (nullable = true)\n |-- Country: string (nullable = true)\n |-- Discipline: string (nullable = true)\n |-- Event: string (nullable = true)\n\n"
     ]
    }
   ],
   "source": [
    "coaches.printSchema()"
   ]
  },
  {
   "cell_type": "code",
   "execution_count": 0,
   "metadata": {
    "application/vnd.databricks.v1+cell": {
     "cellMetadata": {
      "byteLimit": 2048000,
      "rowLimit": 10000
     },
     "inputWidgets": {},
     "nuid": "4fb71464-96e5-4c45-b876-1958a949d12e",
     "showTitle": false,
     "tableResultSettingsMap": {},
     "title": ""
    }
   },
   "outputs": [
    {
     "output_type": "stream",
     "name": "stdout",
     "output_type": "stream",
     "text": [
      "+--------------------+------+----+-----+\n|          Discipline|Female|Male|Total|\n+--------------------+------+----+-----+\n|      3x3 Basketball|    32|  32|   64|\n|             Archery|    64|  64|  128|\n| Artistic Gymnastics|    98|  98|  196|\n|   Artistic Swimming|   105|   0|  105|\n|           Athletics|   969|1072| 2041|\n|           Badminton|    86|  87|  173|\n|   Baseball/Softball|    90| 144|  234|\n|          Basketball|   144| 144|  288|\n|    Beach Volleyball|    48|  48|   96|\n|              Boxing|   102| 187|  289|\n|        Canoe Slalom|    41|  41|   82|\n|        Canoe Sprint|   123| 126|  249|\n|Cycling BMX Frees...|    10|   9|   19|\n|  Cycling BMX Racing|    24|  24|   48|\n|Cycling Mountain ...|    38|  38|   76|\n|        Cycling Road|    70| 131|  201|\n|       Cycling Track|    90|  99|  189|\n|              Diving|    72|  71|  143|\n|          Equestrian|    73| 125|  198|\n|             Fencing|   107| 108|  215|\n+--------------------+------+----+-----+\nonly showing top 20 rows\n\n"
     ]
    }
   ],
   "source": [
    "entriesgender.show()"
   ]
  },
  {
   "cell_type": "code",
   "execution_count": 0,
   "metadata": {
    "application/vnd.databricks.v1+cell": {
     "cellMetadata": {
      "byteLimit": 2048000,
      "rowLimit": 10000
     },
     "inputWidgets": {},
     "nuid": "02bbe05a-7ddb-4df8-a692-6d6a4caf876d",
     "showTitle": false,
     "tableResultSettingsMap": {},
     "title": ""
    }
   },
   "outputs": [
    {
     "output_type": "stream",
     "name": "stdout",
     "output_type": "stream",
     "text": [
      "root\n |-- Discipline: string (nullable = true)\n |-- Female: string (nullable = true)\n |-- Male: string (nullable = true)\n |-- Total: string (nullable = true)\n\n"
     ]
    }
   ],
   "source": [
    "entriesgender.printSchema()"
   ]
  },
  {
   "cell_type": "code",
   "execution_count": 0,
   "metadata": {
    "application/vnd.databricks.v1+cell": {
     "cellMetadata": {
      "byteLimit": 2048000,
      "rowLimit": 10000
     },
     "inputWidgets": {},
     "nuid": "5b1226e4-8a6a-407f-a4e7-14d93259439b",
     "showTitle": false,
     "tableResultSettingsMap": {},
     "title": ""
    }
   },
   "outputs": [],
   "source": [
    "#basic tranfsormation, here F & M and Total columns have numbers and are having data type as string\n",
    "\n",
    "entriesgender = entriesgender.withColumn(\"Female\",col(\"Female\").cast(IntegerType()))\\\n",
    "    .withColumn(\"Male\",col(\"Male\").cast(IntegerType()))\\\n",
    "    .withColumn(\"Total\",col(\"Total\").cast(IntegerType()))    "
   ]
  },
  {
   "cell_type": "code",
   "execution_count": 0,
   "metadata": {
    "application/vnd.databricks.v1+cell": {
     "cellMetadata": {
      "byteLimit": 2048000,
      "rowLimit": 10000
     },
     "inputWidgets": {},
     "nuid": "0c28a9c0-c325-4660-a1cd-41c4d32e00da",
     "showTitle": false,
     "tableResultSettingsMap": {},
     "title": ""
    }
   },
   "outputs": [
    {
     "output_type": "stream",
     "name": "stdout",
     "output_type": "stream",
     "text": [
      "root\n |-- Discipline: string (nullable = true)\n |-- Female: integer (nullable = true)\n |-- Male: integer (nullable = true)\n |-- Total: integer (nullable = true)\n\n"
     ]
    }
   ],
   "source": [
    "entriesgender.printSchema()"
   ]
  },
  {
   "cell_type": "code",
   "execution_count": 0,
   "metadata": {
    "application/vnd.databricks.v1+cell": {
     "cellMetadata": {
      "byteLimit": 2048000,
      "rowLimit": 10000
     },
     "inputWidgets": {},
     "nuid": "6a74ab4c-cc4a-41ef-b404-035baa891879",
     "showTitle": false,
     "tableResultSettingsMap": {},
     "title": ""
    }
   },
   "outputs": [
    {
     "output_type": "stream",
     "name": "stdout",
     "output_type": "stream",
     "text": [
      "+----+--------------------+----+------+------+-----+-------------+\n|Rank|         TeamCountry|Gold|Silver|Bronze|Total|Rank by Total|\n+----+--------------------+----+------+------+-----+-------------+\n|   1|United States of ...|  39|    41|    33|  113|            1|\n|   2|People's Republic...|  38|    32|    18|   88|            2|\n|   3|               Japan|  27|    14|    17|   58|            5|\n|   4|       Great Britain|  22|    21|    22|   65|            4|\n|   5|                 ROC|  20|    28|    23|   71|            3|\n|   6|           Australia|  17|     7|    22|   46|            6|\n|   7|         Netherlands|  10|    12|    14|   36|            9|\n|   8|              France|  10|    12|    11|   33|           10|\n|   9|             Germany|  10|    11|    16|   37|            8|\n|  10|               Italy|  10|    10|    20|   40|            7|\n|  11|              Canada|   7|     6|    11|   24|           11|\n|  12|              Brazil|   7|     6|     8|   21|           12|\n|  13|         New Zealand|   7|     6|     7|   20|           13|\n|  14|                Cuba|   7|     3|     5|   15|           18|\n|  15|             Hungary|   6|     7|     7|   20|           13|\n|  16|   Republic of Korea|   6|     4|    10|   20|           13|\n|  17|              Poland|   4|     5|     5|   14|           19|\n|  18|      Czech Republic|   4|     4|     3|   11|           23|\n|  19|               Kenya|   4|     4|     2|   10|           25|\n|  20|              Norway|   4|     2|     2|    8|           29|\n+----+--------------------+----+------+------+-----+-------------+\nonly showing top 20 rows\n\n"
     ]
    }
   ],
   "source": [
    "medals.show()"
   ]
  },
  {
   "cell_type": "code",
   "execution_count": 0,
   "metadata": {
    "application/vnd.databricks.v1+cell": {
     "cellMetadata": {
      "byteLimit": 2048000,
      "rowLimit": 10000
     },
     "inputWidgets": {},
     "nuid": "a926b835-06d6-45cf-a3a4-0f102c1b9e9e",
     "showTitle": false,
     "tableResultSettingsMap": {},
     "title": ""
    }
   },
   "outputs": [
    {
     "output_type": "stream",
     "name": "stdout",
     "output_type": "stream",
     "text": [
      "root\n |-- Rank: integer (nullable = true)\n |-- TeamCountry: string (nullable = true)\n |-- Gold: integer (nullable = true)\n |-- Silver: integer (nullable = true)\n |-- Bronze: integer (nullable = true)\n |-- Total: integer (nullable = true)\n |-- Rank by Total: integer (nullable = true)\n\n"
     ]
    }
   ],
   "source": [
    "medals.printSchema() # we changed in block 5 the .option(\"inferSchema\", \"true\")"
   ]
  },
  {
   "cell_type": "code",
   "execution_count": 0,
   "metadata": {
    "application/vnd.databricks.v1+cell": {
     "cellMetadata": {
      "byteLimit": 2048000,
      "rowLimit": 10000
     },
     "inputWidgets": {},
     "nuid": "16d3e742-7438-4b7d-afca-0ad5919701fb",
     "showTitle": false,
     "tableResultSettingsMap": {},
     "title": ""
    }
   },
   "outputs": [
    {
     "output_type": "display_data",
     "data": {
      "text/html": [
       "<style scoped>\n",
       "  .table-result-container {\n",
       "    max-height: 300px;\n",
       "    overflow: auto;\n",
       "  }\n",
       "  table, th, td {\n",
       "    border: 1px solid black;\n",
       "    border-collapse: collapse;\n",
       "  }\n",
       "  th, td {\n",
       "    padding: 5px;\n",
       "  }\n",
       "  th {\n",
       "    text-align: left;\n",
       "  }\n",
       "</style><div class='table-result-container'><table class='table-result'><thead style='background-color: white'><tr><th>TeamCountry</th><th>Gold</th></tr></thead><tbody><tr><td>United States of America</td><td>39</td></tr><tr><td>People's Republic of China</td><td>38</td></tr><tr><td>Japan</td><td>27</td></tr><tr><td>Great Britain</td><td>22</td></tr><tr><td>ROC</td><td>20</td></tr><tr><td>Australia</td><td>17</td></tr><tr><td>Netherlands</td><td>10</td></tr><tr><td>Italy</td><td>10</td></tr><tr><td>France</td><td>10</td></tr><tr><td>Germany</td><td>10</td></tr><tr><td>Canada</td><td>7</td></tr><tr><td>Brazil</td><td>7</td></tr><tr><td>New Zealand</td><td>7</td></tr><tr><td>Cuba</td><td>7</td></tr><tr><td>Hungary</td><td>6</td></tr><tr><td>Republic of Korea</td><td>6</td></tr><tr><td>Czech Republic</td><td>4</td></tr><tr><td>Norway</td><td>4</td></tr><tr><td>Jamaica</td><td>4</td></tr><tr><td>Kenya</td><td>4</td></tr><tr><td>Poland</td><td>4</td></tr><tr><td>Spain</td><td>3</td></tr><tr><td>Serbia</td><td>3</td></tr><tr><td>Belgium</td><td>3</td></tr><tr><td>Sweden</td><td>3</td></tr><tr><td>Slovenia</td><td>3</td></tr><tr><td>Switzerland</td><td>3</td></tr><tr><td>Bulgaria</td><td>3</td></tr><tr><td>Croatia</td><td>3</td></tr><tr><td>Uzbekistan</td><td>3</td></tr><tr><td>Islamic Republic of Iran</td><td>3</td></tr><tr><td>Denmark</td><td>3</td></tr><tr><td>Ecuador</td><td>2</td></tr><tr><td>Uganda</td><td>2</td></tr><tr><td>Bahamas</td><td>2</td></tr><tr><td>Qatar</td><td>2</td></tr><tr><td>Kosovo</td><td>2</td></tr><tr><td>Georgia</td><td>2</td></tr><tr><td>Ireland</td><td>2</td></tr><tr><td>Greece</td><td>2</td></tr><tr><td>Israel</td><td>2</td></tr><tr><td>Turkey</td><td>2</td></tr><tr><td>Chinese Taipei</td><td>2</td></tr><tr><td>Ukraine</td><td>1</td></tr><tr><td>Thailand</td><td>1</td></tr><tr><td>Belarus</td><td>1</td></tr><tr><td>India</td><td>1</td></tr><tr><td>Austria</td><td>1</td></tr><tr><td>Puerto Rico</td><td>1</td></tr><tr><td>Hong Kong, China</td><td>1</td></tr><tr><td>Latvia</td><td>1</td></tr><tr><td>South Africa</td><td>1</td></tr><tr><td>Indonesia</td><td>1</td></tr><tr><td>Slovakia</td><td>1</td></tr><tr><td>Ethiopia</td><td>1</td></tr><tr><td>Venezuela</td><td>1</td></tr><tr><td>Tunisia</td><td>1</td></tr><tr><td>Philippines</td><td>1</td></tr><tr><td>Estonia</td><td>1</td></tr><tr><td>Portugal</td><td>1</td></tr><tr><td>Bermuda</td><td>1</td></tr><tr><td>Egypt</td><td>1</td></tr><tr><td>Romania</td><td>1</td></tr><tr><td>Fiji</td><td>1</td></tr><tr><td>Morocco</td><td>1</td></tr><tr><td>Azerbaijan</td><td>0</td></tr><tr><td>Dominican Republic</td><td>0</td></tr><tr><td>Namibia</td><td>0</td></tr><tr><td>Colombia</td><td>0</td></tr><tr><td>Finland</td><td>0</td></tr><tr><td>Armenia</td><td>0</td></tr><tr><td>Argentina</td><td>0</td></tr><tr><td>Kyrgyzstan</td><td>0</td></tr><tr><td>San Marino</td><td>0</td></tr><tr><td>Jordan</td><td>0</td></tr><tr><td>Mongolia</td><td>0</td></tr><tr><td>Bahrain</td><td>0</td></tr><tr><td>Kazakhstan</td><td>0</td></tr><tr><td>Saudi Arabia</td><td>0</td></tr><tr><td>North Macedonia</td><td>0</td></tr><tr><td>Lithuania</td><td>0</td></tr><tr><td>Burkina Faso</td><td>0</td></tr><tr><td>Grenada</td><td>0</td></tr><tr><td>Turkmenistan</td><td>0</td></tr><tr><td>Mexico</td><td>0</td></tr><tr><td>Malaysia</td><td>0</td></tr><tr><td>Côte d'Ivoire</td><td>0</td></tr><tr><td>Ghana</td><td>0</td></tr><tr><td>Botswana</td><td>0</td></tr><tr><td>Nigeria</td><td>0</td></tr><tr><td>Kuwait</td><td>0</td></tr><tr><td>Republic of Moldova</td><td>0</td></tr><tr><td>Syrian Arab Republic</td><td>0</td></tr></tbody></table></div>"
      ]
     },
     "metadata": {
      "application/vnd.databricks.v1+output": {
       "addedWidgets": {},
       "aggData": [],
       "aggError": "",
       "aggOverflow": false,
       "aggSchema": [],
       "aggSeriesLimitReached": false,
       "aggType": "",
       "arguments": {},
       "columnCustomDisplayInfos": {},
       "data": [
        [
         "United States of America",
         39
        ],
        [
         "People's Republic of China",
         38
        ],
        [
         "Japan",
         27
        ],
        [
         "Great Britain",
         22
        ],
        [
         "ROC",
         20
        ],
        [
         "Australia",
         17
        ],
        [
         "Netherlands",
         10
        ],
        [
         "Italy",
         10
        ],
        [
         "France",
         10
        ],
        [
         "Germany",
         10
        ],
        [
         "Canada",
         7
        ],
        [
         "Brazil",
         7
        ],
        [
         "New Zealand",
         7
        ],
        [
         "Cuba",
         7
        ],
        [
         "Hungary",
         6
        ],
        [
         "Republic of Korea",
         6
        ],
        [
         "Czech Republic",
         4
        ],
        [
         "Norway",
         4
        ],
        [
         "Jamaica",
         4
        ],
        [
         "Kenya",
         4
        ],
        [
         "Poland",
         4
        ],
        [
         "Spain",
         3
        ],
        [
         "Serbia",
         3
        ],
        [
         "Belgium",
         3
        ],
        [
         "Sweden",
         3
        ],
        [
         "Slovenia",
         3
        ],
        [
         "Switzerland",
         3
        ],
        [
         "Bulgaria",
         3
        ],
        [
         "Croatia",
         3
        ],
        [
         "Uzbekistan",
         3
        ],
        [
         "Islamic Republic of Iran",
         3
        ],
        [
         "Denmark",
         3
        ],
        [
         "Ecuador",
         2
        ],
        [
         "Uganda",
         2
        ],
        [
         "Bahamas",
         2
        ],
        [
         "Qatar",
         2
        ],
        [
         "Kosovo",
         2
        ],
        [
         "Georgia",
         2
        ],
        [
         "Ireland",
         2
        ],
        [
         "Greece",
         2
        ],
        [
         "Israel",
         2
        ],
        [
         "Turkey",
         2
        ],
        [
         "Chinese Taipei",
         2
        ],
        [
         "Ukraine",
         1
        ],
        [
         "Thailand",
         1
        ],
        [
         "Belarus",
         1
        ],
        [
         "India",
         1
        ],
        [
         "Austria",
         1
        ],
        [
         "Puerto Rico",
         1
        ],
        [
         "Hong Kong, China",
         1
        ],
        [
         "Latvia",
         1
        ],
        [
         "South Africa",
         1
        ],
        [
         "Indonesia",
         1
        ],
        [
         "Slovakia",
         1
        ],
        [
         "Ethiopia",
         1
        ],
        [
         "Venezuela",
         1
        ],
        [
         "Tunisia",
         1
        ],
        [
         "Philippines",
         1
        ],
        [
         "Estonia",
         1
        ],
        [
         "Portugal",
         1
        ],
        [
         "Bermuda",
         1
        ],
        [
         "Egypt",
         1
        ],
        [
         "Romania",
         1
        ],
        [
         "Fiji",
         1
        ],
        [
         "Morocco",
         1
        ],
        [
         "Azerbaijan",
         0
        ],
        [
         "Dominican Republic",
         0
        ],
        [
         "Namibia",
         0
        ],
        [
         "Colombia",
         0
        ],
        [
         "Finland",
         0
        ],
        [
         "Armenia",
         0
        ],
        [
         "Argentina",
         0
        ],
        [
         "Kyrgyzstan",
         0
        ],
        [
         "San Marino",
         0
        ],
        [
         "Jordan",
         0
        ],
        [
         "Mongolia",
         0
        ],
        [
         "Bahrain",
         0
        ],
        [
         "Kazakhstan",
         0
        ],
        [
         "Saudi Arabia",
         0
        ],
        [
         "North Macedonia",
         0
        ],
        [
         "Lithuania",
         0
        ],
        [
         "Burkina Faso",
         0
        ],
        [
         "Grenada",
         0
        ],
        [
         "Turkmenistan",
         0
        ],
        [
         "Mexico",
         0
        ],
        [
         "Malaysia",
         0
        ],
        [
         "Côte d'Ivoire",
         0
        ],
        [
         "Ghana",
         0
        ],
        [
         "Botswana",
         0
        ],
        [
         "Nigeria",
         0
        ],
        [
         "Kuwait",
         0
        ],
        [
         "Republic of Moldova",
         0
        ],
        [
         "Syrian Arab Republic",
         0
        ]
       ],
       "datasetInfos": [],
       "dbfsResultPath": null,
       "isJsonSchema": true,
       "metadata": {},
       "overflow": false,
       "plotOptions": {
        "customPlotOptions": {},
        "displayType": "table",
        "pivotAggregation": null,
        "pivotColumns": null,
        "xColumns": null,
        "yColumns": null
       },
       "removedWidgets": [],
       "schema": [
        {
         "metadata": "{}",
         "name": "TeamCountry",
         "type": "\"string\""
        },
        {
         "metadata": "{}",
         "name": "Gold",
         "type": "\"integer\""
        }
       ],
       "type": "table"
      }
     },
     "output_type": "display_data"
    }
   ],
   "source": [
    "#Find the top countries with the highest number of gold medals \n",
    "\n",
    "top_gold_medal_countries = medals.orderBy(\"Gold\", ascending=False).select(\"TeamCountry\",\"Gold\").display()"
   ]
  },
  {
   "cell_type": "code",
   "execution_count": 0,
   "metadata": {
    "application/vnd.databricks.v1+cell": {
     "cellMetadata": {
      "byteLimit": 2048000,
      "rowLimit": 10000
     },
     "inputWidgets": {},
     "nuid": "68fbc469-e707-4a6f-8916-c86a9d55ebc1",
     "showTitle": false,
     "tableResultSettingsMap": {},
     "title": ""
    }
   },
   "outputs": [
    {
     "output_type": "display_data",
     "data": {
      "text/html": [
       "<style scoped>\n",
       "  .table-result-container {\n",
       "    max-height: 300px;\n",
       "    overflow: auto;\n",
       "  }\n",
       "  table, th, td {\n",
       "    border: 1px solid black;\n",
       "    border-collapse: collapse;\n",
       "  }\n",
       "  th, td {\n",
       "    padding: 5px;\n",
       "  }\n",
       "  th {\n",
       "    text-align: left;\n",
       "  }\n",
       "</style><div class='table-result-container'><table class='table-result'><thead style='background-color: white'><tr><th>Discipline</th><th>Female</th><th>Male</th><th>Total</th><th>Avg_Female</th><th>Avg_Male</th></tr></thead><tbody><tr><td>3x3 Basketball</td><td>32</td><td>32</td><td>64</td><td>0.5</td><td>0.5</td></tr><tr><td>Archery</td><td>64</td><td>64</td><td>128</td><td>0.5</td><td>0.5</td></tr><tr><td>Artistic Gymnastics</td><td>98</td><td>98</td><td>196</td><td>0.5</td><td>0.5</td></tr><tr><td>Artistic Swimming</td><td>105</td><td>0</td><td>105</td><td>1.0</td><td>0.0</td></tr><tr><td>Athletics</td><td>969</td><td>1072</td><td>2041</td><td>0.4747672709456149</td><td>0.5252327290543851</td></tr><tr><td>Badminton</td><td>86</td><td>87</td><td>173</td><td>0.49710982658959535</td><td>0.5028901734104047</td></tr><tr><td>Baseball/Softball</td><td>90</td><td>144</td><td>234</td><td>0.38461538461538464</td><td>0.6153846153846154</td></tr><tr><td>Basketball</td><td>144</td><td>144</td><td>288</td><td>0.5</td><td>0.5</td></tr><tr><td>Beach Volleyball</td><td>48</td><td>48</td><td>96</td><td>0.5</td><td>0.5</td></tr><tr><td>Boxing</td><td>102</td><td>187</td><td>289</td><td>0.35294117647058826</td><td>0.6470588235294118</td></tr><tr><td>Canoe Slalom</td><td>41</td><td>41</td><td>82</td><td>0.5</td><td>0.5</td></tr><tr><td>Canoe Sprint</td><td>123</td><td>126</td><td>249</td><td>0.4939759036144578</td><td>0.5060240963855421</td></tr><tr><td>Cycling BMX Freestyle</td><td>10</td><td>9</td><td>19</td><td>0.5263157894736842</td><td>0.47368421052631576</td></tr><tr><td>Cycling BMX Racing</td><td>24</td><td>24</td><td>48</td><td>0.5</td><td>0.5</td></tr><tr><td>Cycling Mountain Bike</td><td>38</td><td>38</td><td>76</td><td>0.5</td><td>0.5</td></tr><tr><td>Cycling Road</td><td>70</td><td>131</td><td>201</td><td>0.3482587064676617</td><td>0.6517412935323383</td></tr><tr><td>Cycling Track</td><td>90</td><td>99</td><td>189</td><td>0.47619047619047616</td><td>0.5238095238095238</td></tr><tr><td>Diving</td><td>72</td><td>71</td><td>143</td><td>0.5034965034965035</td><td>0.4965034965034965</td></tr><tr><td>Equestrian</td><td>73</td><td>125</td><td>198</td><td>0.3686868686868687</td><td>0.6313131313131313</td></tr><tr><td>Fencing</td><td>107</td><td>108</td><td>215</td><td>0.49767441860465117</td><td>0.5023255813953489</td></tr><tr><td>Football</td><td>264</td><td>344</td><td>608</td><td>0.4342105263157895</td><td>0.5657894736842105</td></tr><tr><td>Golf</td><td>60</td><td>60</td><td>120</td><td>0.5</td><td>0.5</td></tr><tr><td>Handball</td><td>168</td><td>168</td><td>336</td><td>0.5</td><td>0.5</td></tr><tr><td>Hockey</td><td>192</td><td>192</td><td>384</td><td>0.5</td><td>0.5</td></tr><tr><td>Judo</td><td>192</td><td>201</td><td>393</td><td>0.48854961832061067</td><td>0.5114503816793893</td></tr><tr><td>Karate</td><td>40</td><td>42</td><td>82</td><td>0.4878048780487805</td><td>0.5121951219512195</td></tr><tr><td>Marathon Swimming</td><td>25</td><td>25</td><td>50</td><td>0.5</td><td>0.5</td></tr><tr><td>Modern Pentathlon</td><td>36</td><td>36</td><td>72</td><td>0.5</td><td>0.5</td></tr><tr><td>Rhythmic Gymnastics</td><td>96</td><td>0</td><td>96</td><td>1.0</td><td>0.0</td></tr><tr><td>Rowing</td><td>257</td><td>265</td><td>522</td><td>0.49233716475095785</td><td>0.5076628352490421</td></tr><tr><td>Rugby Sevens</td><td>146</td><td>151</td><td>297</td><td>0.49158249158249157</td><td>0.5084175084175084</td></tr><tr><td>Sailing</td><td>175</td><td>175</td><td>350</td><td>0.5</td><td>0.5</td></tr><tr><td>Shooting</td><td>178</td><td>178</td><td>356</td><td>0.5</td><td>0.5</td></tr><tr><td>Skateboarding</td><td>40</td><td>40</td><td>80</td><td>0.5</td><td>0.5</td></tr><tr><td>Sport Climbing</td><td>20</td><td>20</td><td>40</td><td>0.5</td><td>0.5</td></tr><tr><td>Surfing</td><td>20</td><td>20</td><td>40</td><td>0.5</td><td>0.5</td></tr><tr><td>Swimming</td><td>361</td><td>418</td><td>779</td><td>0.4634146341463415</td><td>0.5365853658536586</td></tr><tr><td>Table Tennis</td><td>86</td><td>86</td><td>172</td><td>0.5</td><td>0.5</td></tr><tr><td>Taekwondo</td><td>65</td><td>65</td><td>130</td><td>0.5</td><td>0.5</td></tr><tr><td>Tennis</td><td>94</td><td>97</td><td>191</td><td>0.49214659685863876</td><td>0.5078534031413613</td></tr><tr><td>Trampoline Gymnastics</td><td>16</td><td>16</td><td>32</td><td>0.5</td><td>0.5</td></tr><tr><td>Triathlon</td><td>55</td><td>55</td><td>110</td><td>0.5</td><td>0.5</td></tr><tr><td>Volleyball</td><td>144</td><td>144</td><td>288</td><td>0.5</td><td>0.5</td></tr><tr><td>Water Polo</td><td>122</td><td>146</td><td>268</td><td>0.4552238805970149</td><td>0.5447761194029851</td></tr><tr><td>Weightlifting</td><td>98</td><td>99</td><td>197</td><td>0.49746192893401014</td><td>0.5025380710659898</td></tr><tr><td>Wrestling</td><td>96</td><td>193</td><td>289</td><td>0.33217993079584773</td><td>0.6678200692041523</td></tr></tbody></table></div>"
      ]
     },
     "metadata": {
      "application/vnd.databricks.v1+output": {
       "addedWidgets": {},
       "aggData": [],
       "aggError": "",
       "aggOverflow": false,
       "aggSchema": [],
       "aggSeriesLimitReached": false,
       "aggType": "",
       "arguments": {},
       "columnCustomDisplayInfos": {},
       "data": [
        [
         "3x3 Basketball",
         32,
         32,
         64,
         0.5,
         0.5
        ],
        [
         "Archery",
         64,
         64,
         128,
         0.5,
         0.5
        ],
        [
         "Artistic Gymnastics",
         98,
         98,
         196,
         0.5,
         0.5
        ],
        [
         "Artistic Swimming",
         105,
         0,
         105,
         1.0,
         0.0
        ],
        [
         "Athletics",
         969,
         1072,
         2041,
         0.4747672709456149,
         0.5252327290543851
        ],
        [
         "Badminton",
         86,
         87,
         173,
         0.49710982658959535,
         0.5028901734104047
        ],
        [
         "Baseball/Softball",
         90,
         144,
         234,
         0.38461538461538464,
         0.6153846153846154
        ],
        [
         "Basketball",
         144,
         144,
         288,
         0.5,
         0.5
        ],
        [
         "Beach Volleyball",
         48,
         48,
         96,
         0.5,
         0.5
        ],
        [
         "Boxing",
         102,
         187,
         289,
         0.35294117647058826,
         0.6470588235294118
        ],
        [
         "Canoe Slalom",
         41,
         41,
         82,
         0.5,
         0.5
        ],
        [
         "Canoe Sprint",
         123,
         126,
         249,
         0.4939759036144578,
         0.5060240963855421
        ],
        [
         "Cycling BMX Freestyle",
         10,
         9,
         19,
         0.5263157894736842,
         0.47368421052631576
        ],
        [
         "Cycling BMX Racing",
         24,
         24,
         48,
         0.5,
         0.5
        ],
        [
         "Cycling Mountain Bike",
         38,
         38,
         76,
         0.5,
         0.5
        ],
        [
         "Cycling Road",
         70,
         131,
         201,
         0.3482587064676617,
         0.6517412935323383
        ],
        [
         "Cycling Track",
         90,
         99,
         189,
         0.47619047619047616,
         0.5238095238095238
        ],
        [
         "Diving",
         72,
         71,
         143,
         0.5034965034965035,
         0.4965034965034965
        ],
        [
         "Equestrian",
         73,
         125,
         198,
         0.3686868686868687,
         0.6313131313131313
        ],
        [
         "Fencing",
         107,
         108,
         215,
         0.49767441860465117,
         0.5023255813953489
        ],
        [
         "Football",
         264,
         344,
         608,
         0.4342105263157895,
         0.5657894736842105
        ],
        [
         "Golf",
         60,
         60,
         120,
         0.5,
         0.5
        ],
        [
         "Handball",
         168,
         168,
         336,
         0.5,
         0.5
        ],
        [
         "Hockey",
         192,
         192,
         384,
         0.5,
         0.5
        ],
        [
         "Judo",
         192,
         201,
         393,
         0.48854961832061067,
         0.5114503816793893
        ],
        [
         "Karate",
         40,
         42,
         82,
         0.4878048780487805,
         0.5121951219512195
        ],
        [
         "Marathon Swimming",
         25,
         25,
         50,
         0.5,
         0.5
        ],
        [
         "Modern Pentathlon",
         36,
         36,
         72,
         0.5,
         0.5
        ],
        [
         "Rhythmic Gymnastics",
         96,
         0,
         96,
         1.0,
         0.0
        ],
        [
         "Rowing",
         257,
         265,
         522,
         0.49233716475095785,
         0.5076628352490421
        ],
        [
         "Rugby Sevens",
         146,
         151,
         297,
         0.49158249158249157,
         0.5084175084175084
        ],
        [
         "Sailing",
         175,
         175,
         350,
         0.5,
         0.5
        ],
        [
         "Shooting",
         178,
         178,
         356,
         0.5,
         0.5
        ],
        [
         "Skateboarding",
         40,
         40,
         80,
         0.5,
         0.5
        ],
        [
         "Sport Climbing",
         20,
         20,
         40,
         0.5,
         0.5
        ],
        [
         "Surfing",
         20,
         20,
         40,
         0.5,
         0.5
        ],
        [
         "Swimming",
         361,
         418,
         779,
         0.4634146341463415,
         0.5365853658536586
        ],
        [
         "Table Tennis",
         86,
         86,
         172,
         0.5,
         0.5
        ],
        [
         "Taekwondo",
         65,
         65,
         130,
         0.5,
         0.5
        ],
        [
         "Tennis",
         94,
         97,
         191,
         0.49214659685863876,
         0.5078534031413613
        ],
        [
         "Trampoline Gymnastics",
         16,
         16,
         32,
         0.5,
         0.5
        ],
        [
         "Triathlon",
         55,
         55,
         110,
         0.5,
         0.5
        ],
        [
         "Volleyball",
         144,
         144,
         288,
         0.5,
         0.5
        ],
        [
         "Water Polo",
         122,
         146,
         268,
         0.4552238805970149,
         0.5447761194029851
        ],
        [
         "Weightlifting",
         98,
         99,
         197,
         0.49746192893401014,
         0.5025380710659898
        ],
        [
         "Wrestling",
         96,
         193,
         289,
         0.33217993079584773,
         0.6678200692041523
        ]
       ],
       "datasetInfos": [],
       "dbfsResultPath": null,
       "isJsonSchema": true,
       "metadata": {},
       "overflow": false,
       "plotOptions": {
        "customPlotOptions": {},
        "displayType": "table",
        "pivotAggregation": null,
        "pivotColumns": null,
        "xColumns": null,
        "yColumns": null
       },
       "removedWidgets": [],
       "schema": [
        {
         "metadata": "{}",
         "name": "Discipline",
         "type": "\"string\""
        },
        {
         "metadata": "{}",
         "name": "Female",
         "type": "\"integer\""
        },
        {
         "metadata": "{}",
         "name": "Male",
         "type": "\"integer\""
        },
        {
         "metadata": "{}",
         "name": "Total",
         "type": "\"integer\""
        },
        {
         "metadata": "{}",
         "name": "Avg_Female",
         "type": "\"double\""
        },
        {
         "metadata": "{}",
         "name": "Avg_Male",
         "type": "\"double\""
        }
       ],
       "type": "table"
      }
     },
     "output_type": "display_data"
    }
   ],
   "source": [
    "#Calculate the avg number of entries by gender for each discipline\n",
    "\n",
    "average_entries_by_gender = entriesgender.withColumn(\n",
    "    'Avg_Female', entriesgender['Female'] / entriesgender['Total']\n",
    ").withColumn(\n",
    "    'Avg_Male', entriesgender['Male'] / entriesgender['Total']\n",
    ")\n",
    "average_entries_by_gender.display()"
   ]
  },
  {
   "cell_type": "code",
   "execution_count": 0,
   "metadata": {
    "application/vnd.databricks.v1+cell": {
     "cellMetadata": {
      "byteLimit": 2048000,
      "rowLimit": 10000
     },
     "inputWidgets": {},
     "nuid": "0fddfcf7-9370-4647-9726-e50402964dd8",
     "showTitle": false,
     "tableResultSettingsMap": {},
     "title": ""
    }
   },
   "outputs": [],
   "source": [
    "#Now we did some basic transfromation we will load the final datas\n",
    "\n",
    "athletes.write.option(\"header\", \"true\").csv(\"/mnt/tokyoolympic/transformed-data/athletes\") #overwrite - if we want to still have more of the same exact file , .repartintion(3) - to divide datas into 3 parts \n",
    "\n",
    "\n"
   ]
  },
  {
   "cell_type": "code",
   "execution_count": 0,
   "metadata": {
    "application/vnd.databricks.v1+cell": {
     "cellMetadata": {
      "byteLimit": 2048000,
      "rowLimit": 10000
     },
     "inputWidgets": {},
     "nuid": "fa85d0e0-c4f3-4478-a037-59cc9cbefb91",
     "showTitle": false,
     "tableResultSettingsMap": {},
     "title": ""
    }
   },
   "outputs": [],
   "source": [
    "coaches.write.option(\"header\", \"true\").csv(\"/mnt/tokyoolympic/transformed-data/coaches\")\n",
    "entriesgender.write.option(\"header\", \"true\").csv(\"/mnt/tokyoolympic/transformed-data/entriesgender\")\n",
    "medals .write.option(\"header\", \"true\").csv(\"/mnt/tokyoolympic/transformed-data/medals\")\n",
    "teams.write.option(\"header\", \"true\").csv(\"/mnt/tokyoolympic/transformed-data/teams\")"
   ]
  },
  {
   "cell_type": "code",
   "execution_count": 0,
   "metadata": {
    "application/vnd.databricks.v1+cell": {
     "cellMetadata": {},
     "inputWidgets": {},
     "nuid": "b6daf28f-9f94-484b-a134-4af7198401ad",
     "showTitle": false,
     "tableResultSettingsMap": {},
     "title": ""
    }
   },
   "outputs": [],
   "source": []
  }
 ],
 "metadata": {
  "application/vnd.databricks.v1+notebook": {
   "computePreferences": null,
   "dashboards": [],
   "environmentMetadata": {
    "base_environment": "",
    "environment_version": "2"
   },
   "language": "python",
   "notebookMetadata": {
    "mostRecentlyExecutedCommandWithImplicitDF": {
     "commandId": 2042766863373809,
     "dataframes": [
      "_sqldf"
     ]
    },
    "pythonIndentUnit": 4
   },
   "notebookName": "Tokyo Olympic Transformation",
   "widgets": {}
  },
  "language_info": {
   "name": "python"
  }
 },
 "nbformat": 4,
 "nbformat_minor": 0
}